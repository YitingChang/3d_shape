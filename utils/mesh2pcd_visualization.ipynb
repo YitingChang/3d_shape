{
 "cells": [
  {
   "cell_type": "code",
   "execution_count": 1,
   "metadata": {},
   "outputs": [
    {
     "name": "stdout",
     "output_type": "stream",
     "text": [
      "Jupyter environment detected. Enabling Open3D WebVisualizer.\n",
      "[Open3D INFO] WebRTC GUI backend enabled.\n",
      "[Open3D INFO] WebRTCWindowSystem: HTTP handshake server disabled.\n"
     ]
    }
   ],
   "source": [
    "import open3d as o3d\n",
    "import numpy as np"
   ]
  },
  {
   "cell_type": "code",
   "execution_count": 2,
   "metadata": {},
   "outputs": [],
   "source": [
    "mesh_file_path = r'/home/yiting/Documents/Data/Shapes/stl/sheet/sheet_009.stl'\n",
    "mesh = o3d.io.read_triangle_mesh(mesh_file_path )"
   ]
  },
  {
   "cell_type": "code",
   "execution_count": 3,
   "metadata": {},
   "outputs": [
    {
     "name": "stdout",
     "output_type": "stream",
     "text": [
      "TriangleMesh with 32570 points and 13830 triangles.\n",
      "Vertices:\n",
      "[[ -7.27447033  -0.19147591  27.60905266]\n",
      " [ -7.39943361  -0.08288647  26.42996597]\n",
      " [ -7.38460541  -0.41500598  26.52010918]\n",
      " ...\n",
      " [-14.85800743 -14.85800838  -3.        ]\n",
      " [  2.5598886   -6.8793726   -3.1303072 ]\n",
      " [  2.50820994  -6.83196163  -3.12482142]]\n",
      "Triangles:\n",
      "[[    0     1     2]\n",
      " [    3     4     5]\n",
      " [    6     7     8]\n",
      " ...\n",
      " [32561 32562 32563]\n",
      " [32564 32565 32566]\n",
      " [32567 32568 32569]]\n"
     ]
    }
   ],
   "source": [
    "print(mesh)\n",
    "print('Vertices:')\n",
    "print(np.asarray(mesh.vertices))\n",
    "print('Triangles:')\n",
    "print(np.asarray(mesh.triangles))"
   ]
  },
  {
   "cell_type": "code",
   "execution_count": 4,
   "metadata": {},
   "outputs": [
    {
     "name": "stdout",
     "output_type": "stream",
     "text": [
      "Try to render a mesh with normals (exist: True) and colors (exist: False)\n",
      "A mesh with no normals and no colors does not look good.\n"
     ]
    }
   ],
   "source": [
    "# Visualize a 3D mesh\n",
    "print(\"Try to render a mesh with normals (exist: \" +\n",
    "      str(mesh.has_vertex_normals()) + \") and colors (exist: \" +\n",
    "      str(mesh.has_vertex_colors()) + \")\")\n",
    "o3d.visualization.draw_geometries([mesh])\n",
    "print(\"A mesh with no normals and no colors does not look good.\")"
   ]
  },
  {
   "cell_type": "code",
   "execution_count": 5,
   "metadata": {},
   "outputs": [
    {
     "name": "stdout",
     "output_type": "stream",
     "text": [
      "Computing normal and rendering it.\n",
      "[[-0.99445545 -0.01619832  0.10390369]\n",
      " [-0.99442694 -0.01962747  0.10358485]\n",
      " [-0.99470476  0.00551907  0.10262548]\n",
      " ...\n",
      " [ 0.00904326 -0.01760733  0.99980408]\n",
      " [ 0.02073408 -0.03588925  0.99914066]\n",
      " [ 0.04020491 -0.07149302  0.99663048]]\n"
     ]
    }
   ],
   "source": [
    "# Surface normal estimation\n",
    "print(\"Computing normal and rendering it.\")\n",
    "mesh.compute_vertex_normals()\n",
    "print(np.asarray(mesh.triangle_normals))\n",
    "o3d.visualization.draw_geometries([mesh])"
   ]
  },
  {
   "cell_type": "code",
   "execution_count": 6,
   "metadata": {},
   "outputs": [],
   "source": [
    "# Function to uniformly sample points from the mesh.\n",
    "pcd = mesh.sample_points_uniformly(number_of_points=1024)\n",
    "o3d.visualization.draw_geometries([pcd])\n",
    "\n"
   ]
  },
  {
   "cell_type": "code",
   "execution_count": null,
   "metadata": {},
   "outputs": [],
   "source": [
    "# Save the point cloud in PLY format\n",
    "o3d.io.write_point_cloud(\"output_point_cloud.ply\", pcd)\n"
   ]
  }
 ],
 "metadata": {
  "kernelspec": {
   "display_name": "3d_shape",
   "language": "python",
   "name": "python3"
  },
  "language_info": {
   "codemirror_mode": {
    "name": "ipython",
    "version": 3
   },
   "file_extension": ".py",
   "mimetype": "text/x-python",
   "name": "python",
   "nbconvert_exporter": "python",
   "pygments_lexer": "ipython3",
   "version": "3.10.14"
  }
 },
 "nbformat": 4,
 "nbformat_minor": 2
}
