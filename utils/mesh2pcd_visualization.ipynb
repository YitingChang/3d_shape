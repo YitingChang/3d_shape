{
 "cells": [
  {
   "cell_type": "code",
   "execution_count": 2,
   "metadata": {},
   "outputs": [],
   "source": [
    "import open3d as o3d\n",
    "import numpy as np\n",
    "import os"
   ]
  },
  {
   "cell_type": "code",
   "execution_count": 3,
   "metadata": {},
   "outputs": [],
   "source": [
    "mesh_file_path = r'/home/yiting/Documents/Data/Shapes/stl/sheet/sheet_009.stl'\n",
    "mesh = o3d.io.read_triangle_mesh(mesh_file_path )"
   ]
  },
  {
   "cell_type": "code",
   "execution_count": null,
   "metadata": {},
   "outputs": [],
   "source": [
    "print(mesh)\n",
    "print('Vertices:')\n",
    "print(np.asarray(mesh.vertices))\n",
    "print('Triangles:')\n",
    "print(np.asarray(mesh.triangles))"
   ]
  },
  {
   "cell_type": "code",
   "execution_count": 6,
   "metadata": {},
   "outputs": [
    {
     "name": "stdout",
     "output_type": "stream",
     "text": [
      "Try to render a mesh with normals (exist: True) and colors (exist: False)\n",
      "A mesh with no normals and no colors does not look good.\n"
     ]
    }
   ],
   "source": [
    "# Visualize a 3D mesh\n",
    "print(\"Try to render a mesh with normals (exist: \" +\n",
    "      str(mesh.has_vertex_normals()) + \") and colors (exist: \" +\n",
    "      str(mesh.has_vertex_colors()) + \")\")\n",
    "o3d.visualization.draw_geometries([mesh])\n",
    "print(\"A mesh with no normals and no colors does not look good.\")"
   ]
  },
  {
   "cell_type": "code",
   "execution_count": 7,
   "metadata": {},
   "outputs": [
    {
     "name": "stdout",
     "output_type": "stream",
     "text": [
      "Computing normal and rendering it.\n",
      "[[-0.99445545 -0.01619832  0.10390369]\n",
      " [-0.99442694 -0.01962747  0.10358485]\n",
      " [-0.99470476  0.00551907  0.10262548]\n",
      " ...\n",
      " [ 0.00904326 -0.01760733  0.99980408]\n",
      " [ 0.02073408 -0.03588925  0.99914066]\n",
      " [ 0.04020491 -0.07149302  0.99663048]]\n"
     ]
    }
   ],
   "source": [
    "# Surface normal estimation\n",
    "print(\"Computing normal and rendering it.\")\n",
    "mesh.compute_vertex_normals()\n",
    "print(np.asarray(mesh.triangle_normals))\n",
    "o3d.visualization.draw_geometries([mesh])"
   ]
  },
  {
   "cell_type": "code",
   "execution_count": 5,
   "metadata": {},
   "outputs": [],
   "source": [
    "# Function to uniformly sample points from the mesh.\n",
    "pcd = mesh.sample_points_uniformly(number_of_points=1024)\n",
    "o3d.visualization.draw_geometries([pcd])\n",
    "\n"
   ]
  },
  {
   "cell_type": "code",
   "execution_count": null,
   "metadata": {},
   "outputs": [],
   "source": [
    "save_dir = r'/home/yiting/Documents/Data/Shapes/ply_1024_jpg'"
   ]
  },
  {
   "cell_type": "code",
   "execution_count": null,
   "metadata": {},
   "outputs": [],
   "source": [
    "\n",
    "# Sample points from the mesh\n",
    "pcd = mesh.sample_points_uniformly(number_of_points=1024)\n",
    "\n",
    "# Create a visualizer object\n",
    "vis = o3d.visualization.Visualizer()\n",
    "vis.create_window()\n",
    "\n",
    "# Add the point cloud to the visualizer\n",
    "vis.add_geometry(pcd)\n",
    "\n",
    "# Poll events and update the renderer to make the geometry visible\n",
    "vis.poll_events()\n",
    "vis.update_renderer()\n",
    "\n",
    "# Get the view control object to manipulate the view\n",
    "view_control = vis.get_view_control()\n",
    "\n",
    "# Rotate the view\n",
    "view_control.rotate(0.0, 90.0)  # Rotate by (x-axis, y-axis) angle in degrees\n",
    "# view_control.translate(0.0, 10.0)  # Optional: Translate the view if necessary\n",
    "\n"
   ]
  },
  {
   "cell_type": "code",
   "execution_count": null,
   "metadata": {},
   "outputs": [],
   "source": [
    "\n",
    "# vis.capture_screen_image(os.path.join(save_dir,\"point_cloud_visualization.png\"))  # Save as PNG image\n",
    "\n",
    "# Close the visualizer window\n",
    "# vis.destroy_window()\n"
   ]
  }
 ],
 "metadata": {
  "kernelspec": {
   "display_name": "3d_shape",
   "language": "python",
   "name": "python3"
  },
  "language_info": {
   "codemirror_mode": {
    "name": "ipython",
    "version": 3
   },
   "file_extension": ".py",
   "mimetype": "text/x-python",
   "name": "python",
   "nbconvert_exporter": "python",
   "pygments_lexer": "ipython3",
   "version": "3.10.14"
  }
 },
 "nbformat": 4,
 "nbformat_minor": 2
}
