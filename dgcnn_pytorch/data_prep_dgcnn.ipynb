{
 "cells": [
  {
   "cell_type": "code",
   "execution_count": 1,
   "metadata": {},
   "outputs": [],
   "source": [
    "# Concatenate ply data for each vh_object and create a label\n",
    "# Category labels: axial components = 1, torso = 2, sheet = 3.\n",
    "\n",
    "import os\n",
    "from plyfile import PlyData\n",
    "import h5py\n",
    "import numpy as np\n"
   ]
  },
  {
   "cell_type": "code",
   "execution_count": 4,
   "metadata": {},
   "outputs": [],
   "source": [
    "# data dir\n",
    "ply_dir = r'/home/yiting/Documents/Data/Shapes/ply_1024/axial_component'\n",
    "# save dir\n",
    "h5_dir = r'/home/yiting/Documents/GitHub/dgcnn.pytorch/data/vhObject_ply_hdf5_1024'\n",
    "file_name = 'ply_data_axial_component.h5'"
   ]
  },
  {
   "cell_type": "code",
   "execution_count": 5,
   "metadata": {},
   "outputs": [],
   "source": [
    "# Write numpy array data and label to h5_filename\n",
    "def save_h5(h5_filename, data, label, normal, data_dtype='uint8', label_dtype='uint8', normal_dtype='uint8'):\n",
    "    h5_fout = h5py.File(h5_filename, \"w\")\n",
    "    h5_fout.create_dataset(\n",
    "            'data', data=data,\n",
    "            compression='gzip', compression_opts=4,\n",
    "            dtype=data_dtype)\n",
    "    h5_fout.create_dataset(\n",
    "            'label', data=label,\n",
    "            compression='gzip', compression_opts=1,\n",
    "            dtype=label_dtype)\n",
    "    h5_fout.create_dataset(\n",
    "            'normal', data=normal,\n",
    "            compression='gzip', compression_opts=4,\n",
    "            dtype=normal_dtype)\n",
    "    h5_fout.close()"
   ]
  },
  {
   "cell_type": "code",
   "execution_count": 6,
   "metadata": {},
   "outputs": [
    {
     "name": "stdout",
     "output_type": "stream",
     "text": [
      "Data shape: (145, 1024, 3)\n",
      "Label shape: (145,)\n",
      "Normal shape: (145, 1024, 3)\n"
     ]
    }
   ],
   "source": [
    "obj_names = os.listdir(ply_dir)\n",
    "data_all = []\n",
    "label_all = []\n",
    "normal_all = []\n",
    "for obj_name in obj_names:\n",
    "\n",
    "    # Load PLY file\n",
    "    ply_data = PlyData.read(os.path.join(ply_dir, obj_name))\n",
    "\n",
    "    # Extract vertex data (assuming the PLY file has 'x', 'y', 'z' coordinates)\n",
    "    vertex_data = ply_data['vertex'].data\n",
    "\n",
    "    # Convert vertex coordinates to a NumPy array\n",
    "    vertices = np.vstack([vertex_data['x'], vertex_data['y'], vertex_data['z']]).T\n",
    "\n",
    "    # Check if the PLY file contains normal vectors ('nx', 'ny', 'nz')\n",
    "    if 'nx' in vertex_data.dtype.names and 'ny' in vertex_data.dtype.names and 'nz' in vertex_data.dtype.names:\n",
    "        normals = np.vstack([vertex_data['nx'], vertex_data['ny'], vertex_data['nz']]).T\n",
    "    else:\n",
    "        normals = None\n",
    "        print(\"The PLY file does not contain normal vectors.\")\n",
    "\n",
    "    # Get label (axial_component = 1, torso = 2, sheet = 3)\n",
    "    category = obj_name.split('_')[0]\n",
    "    if category == 'axial':\n",
    "        label = 1\n",
    "    elif category == 'torso':\n",
    "        label = 2\n",
    "    elif category == 'sheet':\n",
    "        label = 3\n",
    "    else:\n",
    "        print('Not in any category')\n",
    "\n",
    "    # Append the data to lists\n",
    "    data_all.append(vertices)\n",
    "    label_all.append(label)\n",
    "    normal_all.append(normals)\n",
    "\n",
    "# Convert lists to NumPy arrays\n",
    "data_all = np.array(data_all)  # Shape: (X, N, 3) where X is the number of ply objects and N is the number of vertices in each PLY\n",
    "label_all = np.array(label_all) \n",
    "\n",
    "# If normal_all is not empty, concatenate into a NumPy array\n",
    "normal_all = np.array(normal_all) if normal_all else None  # Shape: (X, N, 3) if normals are present\n",
    "\n",
    "# Output the shapes of the arrays\n",
    "print(\"Data shape:\", data_all.shape)\n",
    "print(\"Label shape:\", label_all.shape)\n",
    "print(\"Normal shape:\", normal_all.shape if normal_all is not None else 'No normals')\n",
    "\n",
    "h5_filename = os.path.join(h5_dir, file_name)\n",
    "save_h5(h5_filename, data_all, label_all, normal_all)\n",
    "\n"
   ]
  },
  {
   "cell_type": "code",
   "execution_count": null,
   "metadata": {},
   "outputs": [],
   "source": [
    "# Read numpy array data and label from h5_filename\n",
    "def load_h5_data_label_normal(h5_filename):\n",
    "    f = h5py.File(h5_filename)\n",
    "    data = f['data'][:]\n",
    "    label = f['label'][:]\n",
    "    normal = f['normal'][:]\n",
    "    return (data, label, normal)\n",
    "\n",
    "# Read numpy array data and label from h5_filename\n",
    "def load_h5_data_label_seg(h5_filename):\n",
    "    f = h5py.File(h5_filename)\n",
    "    data = f['data'][:]\n",
    "    label = f['label'][:]\n",
    "    seg = f['pid'][:]\n",
    "    return (data, label, seg)\n",
    "\n",
    "# Read numpy array data and label from h5_filename\n",
    "def load_h5(h5_filename):\n",
    "    f = h5py.File(h5_filename)\n",
    "    data = f['data'][:]\n",
    "    label = f['label'][:]\n",
    "    return (data, label)\n"
   ]
  },
  {
   "cell_type": "code",
   "execution_count": null,
   "metadata": {},
   "outputs": [],
   "source": []
  },
  {
   "cell_type": "code",
   "execution_count": null,
   "metadata": {},
   "outputs": [],
   "source": []
  }
 ],
 "metadata": {
  "kernelspec": {
   "display_name": "3d_shape",
   "language": "python",
   "name": "python3"
  },
  "language_info": {
   "codemirror_mode": {
    "name": "ipython",
    "version": 3
   },
   "file_extension": ".py",
   "mimetype": "text/x-python",
   "name": "python",
   "nbconvert_exporter": "python",
   "pygments_lexer": "ipython3",
   "version": "3.10.14"
  }
 },
 "nbformat": 4,
 "nbformat_minor": 2
}
